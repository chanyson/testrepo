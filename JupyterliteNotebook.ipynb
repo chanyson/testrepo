{
 "cells": [
  {
   "cell_type": "markdown",
   "id": "78c000dd-3909-4b6a-8149-75231641d8aa",
   "metadata": {},
   "source": [
    "# Peer-graded assignment"
   ]
  },
  {
   "cell_type": "markdown",
   "id": "050fab6b-79ed-4144-b4aa-f8f30b51b47b",
   "metadata": {},
   "source": [
    "This peer-graded assignment is intended to demonstrate what I learned about jupyter notebook."
   ]
  },
  {
   "cell_type": "markdown",
   "id": "9f9244a6-7bfa-4bb9-b412-b43cd0e95f73",
   "metadata": {},
   "source": [
    "## List of data science languages\n",
    "- python\n",
    "- R\n",
    "- SQL"
   ]
  },
  {
   "cell_type": "markdown",
   "id": "23b380f5-79a0-44c3-a2a5-d46820ee0461",
   "metadata": {},
   "source": [
    "## List of data science libraries\n",
    "- pandas\n",
    "- numpy\n",
    "- ggplot"
   ]
  },
  {
   "cell_type": "markdown",
   "id": "b89215bc-07c9-4ca5-b4c0-4a5ab6e6eff1",
   "metadata": {},
   "source": [
    "## table of data science tools\n",
    "| management tool | data integration and transformation tool | data visualization tool|\n",
    "|-----------|------------|--------------|\n",
    "| MySQL, mongoDB, CouchDB, Apache cassandra, hadoop HDFS, ceph, elasticsearch | Apache Airflow, Kubeflow, Apach kafka, Apach nifi, Spark SQL, Node-RED | PixieDust, Hue, kibana, Superset |"
   ]
  },
  {
   "cell_type": "markdown",
   "id": "dd303ada-b37d-4352-921c-44bc49aba06e",
   "metadata": {},
   "source": [
    "## introducing arithmetic expression examples"
   ]
  },
  {
   "cell_type": "code",
   "execution_count": 3,
   "id": "f007e82a-4509-42f2-af99-98e62895edbf",
   "metadata": {},
   "outputs": [
    {
     "data": {
      "text/plain": [
       "29"
      ]
     },
     "execution_count": 3,
     "metadata": {},
     "output_type": "execute_result"
    }
   ],
   "source": [
    "(5*5)+4"
   ]
  },
  {
   "cell_type": "code",
   "execution_count": null,
   "id": "7b472650-6f53-485a-8db9-dac15d52eb19",
   "metadata": {},
   "outputs": [],
   "source": [
    "x <- minutes\n",
    "y <- 60\n",
    "hour = minutes / y"
   ]
  },
  {
   "cell_type": "markdown",
   "id": "002b09c5-c207-4446-b320-40bc1346da22",
   "metadata": {},
   "source": [
    "## Objectives\n",
    "- List popular languages for data science\n",
    "- List poupular development environments\n",
    "- Create a jupyter notetook"
   ]
  },
  {
   "cell_type": "markdown",
   "id": "05ea6109-4b63-4ec0-82e4-85b6b063aa63",
   "metadata": {},
   "source": [
    "## Chanhee Son"
   ]
  },
  {
   "cell_type": "code",
   "execution_count": null,
   "id": "d5dc7b04-ee88-4bd5-a7a1-b082842d0f1c",
   "metadata": {},
   "outputs": [],
   "source": []
  },
  {
   "cell_type": "code",
   "execution_count": null,
   "id": "8c2cdc76-0aa1-42a7-a036-3bd553b9e6d2",
   "metadata": {},
   "outputs": [],
   "source": []
  }
 ],
 "metadata": {
  "kernelspec": {
   "display_name": "Python 3 (ipykernel)",
   "language": "python",
   "name": "python3"
  },
  "language_info": {
   "codemirror_mode": {
    "name": "ipython",
    "version": 3
   },
   "file_extension": ".py",
   "mimetype": "text/x-python",
   "name": "python",
   "nbconvert_exporter": "python",
   "pygments_lexer": "ipython3",
   "version": "3.12.8"
  }
 },
 "nbformat": 4,
 "nbformat_minor": 5
}
